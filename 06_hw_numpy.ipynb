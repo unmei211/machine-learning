{
  "cells": [
    {
      "cell_type": "markdown",
      "metadata": {
        "id": "view-in-github",
        "colab_type": "text"
      },
      "source": [
        "<a href=\"https://colab.research.google.com/github/unmei211/machine-learning/blob/main/06_hw_numpy.ipynb\" target=\"_parent\"><img src=\"https://colab.research.google.com/assets/colab-badge.svg\" alt=\"Open In Colab\"/></a>"
      ]
    },
    {
      "cell_type": "markdown",
      "metadata": {
        "id": "DPTog9zXzB4-"
      },
      "source": [
        "# Домашняя работа. Numpy\n",
        "\n",
        "1. Скачайте этот ноутбук к себе.\n",
        "2. Заполните пропущенные ячейки, отвечая на заданные вопросы. Там должен быть код! (если не сказано обратное)\n",
        "3. Сохраните результат в своём гитхаб репозитории.\n",
        "\n",
        "#### Полезная литература\n",
        "\n",
        "- http://www.numpy.org/\n",
        "- https://jakevdp.github.io/PythonDataScienceHandbook/02.00-introduction-to-numpy.html\n",
        "- https://docs.scipy.org/doc/numpy/user/quickstart.html"
      ]
    },
    {
      "cell_type": "markdown",
      "metadata": {
        "id": "htVoxdW9zB5F"
      },
      "source": [
        "1) Импортировать numpy и написать версию"
      ]
    },
    {
      "cell_type": "code",
      "execution_count": null,
      "metadata": {
        "colab": {
          "base_uri": "https://localhost:8080/"
        },
        "id": "Ii2xIKkbzB5H",
        "outputId": "f5178baf-a376-42de-befe-e244a2986ffe"
      },
      "outputs": [
        {
          "output_type": "stream",
          "name": "stdout",
          "text": [
            "<module 'numpy.version' from '/usr/local/lib/python3.10/dist-packages/numpy/version.py'>\n"
          ]
        }
      ],
      "source": [
        "import numpy as np\n",
        "print(np.version)"
      ]
    },
    {
      "cell_type": "markdown",
      "metadata": {
        "id": "-CkqUnUIzB5J"
      },
      "source": [
        "2) Создать нулевой вектор размера 10"
      ]
    },
    {
      "cell_type": "code",
      "execution_count": null,
      "metadata": {
        "colab": {
          "base_uri": "https://localhost:8080/"
        },
        "id": "ikeGV_c4zB5K",
        "outputId": "c57dca8b-ae2c-48a4-ed6f-075e1c2cf95d"
      },
      "outputs": [
        {
          "output_type": "stream",
          "name": "stdout",
          "text": [
            "[0. 0. 0. 0. 0. 0. 0. 0. 0. 0.]\n"
          ]
        }
      ],
      "source": [
        "arr = np.zeros(10)\n",
        "print(arr)"
      ]
    },
    {
      "cell_type": "markdown",
      "metadata": {
        "id": "d0dODYHnzB5M"
      },
      "source": [
        "3) Создать вектор заполненный 7-ами размера 7"
      ]
    },
    {
      "cell_type": "code",
      "execution_count": null,
      "metadata": {
        "colab": {
          "base_uri": "https://localhost:8080/"
        },
        "id": "qIkSAtsAzB5N",
        "outputId": "e2717084-6438-497f-af6c-726fb043e2dd"
      },
      "outputs": [
        {
          "output_type": "stream",
          "name": "stdout",
          "text": [
            "[7. 7. 7. 7. 7. 7. 7.]\n"
          ]
        }
      ],
      "source": [
        "arr = np.linspace(7,7,7)\n",
        "print(arr)"
      ]
    },
    {
      "cell_type": "markdown",
      "metadata": {
        "id": "twrYgpH0zB5O"
      },
      "source": [
        "4) Создать вектор заполненный четными числами от 10 до 100"
      ]
    },
    {
      "cell_type": "code",
      "execution_count": null,
      "metadata": {
        "colab": {
          "base_uri": "https://localhost:8080/"
        },
        "id": "YzEDG5VdzB5Q",
        "outputId": "8b5498a1-2108-4b14-f852-86c7249ee60c"
      },
      "outputs": [
        {
          "output_type": "execute_result",
          "data": {
            "text/plain": [
              "array([ 10,  12,  14,  16,  18,  20,  22,  24,  26,  28,  30,  32,  34,\n",
              "        36,  38,  40,  42,  44,  46,  48,  50,  52,  54,  56,  58,  60,\n",
              "        62,  64,  66,  68,  70,  72,  74,  76,  78,  80,  82,  84,  86,\n",
              "        88,  90,  92,  94,  96,  98, 100])"
            ]
          },
          "metadata": {},
          "execution_count": 10
        }
      ],
      "source": [
        "np.arange(10,101)[::2]"
      ]
    },
    {
      "cell_type": "markdown",
      "metadata": {
        "id": "7OAcwUVHzB5T"
      },
      "source": [
        "5) Создать массив случайных чисел и развернуть его задом наперёд"
      ]
    },
    {
      "cell_type": "code",
      "execution_count": null,
      "metadata": {
        "colab": {
          "base_uri": "https://localhost:8080/"
        },
        "id": "ysuxPz-ZzB5V",
        "outputId": "f9e8226b-7ebd-4731-87ef-d2cb069b418b"
      },
      "outputs": [
        {
          "output_type": "execute_result",
          "data": {
            "text/plain": [
              "array([0.48712502, 0.57739232, 0.02833476, 0.92015574, 0.87571361])"
            ]
          },
          "metadata": {},
          "execution_count": 14
        }
      ],
      "source": [
        "np.random.random_sample(5)[::-1]"
      ]
    },
    {
      "cell_type": "markdown",
      "metadata": {
        "id": "2uSbcIKVzB5V"
      },
      "source": [
        "6) Создать двумерную матрицу размера 3 на 3, заполненную числами от 0 до 9"
      ]
    },
    {
      "cell_type": "code",
      "execution_count": null,
      "metadata": {
        "colab": {
          "base_uri": "https://localhost:8080/"
        },
        "id": "cmZah1FPzB5W",
        "outputId": "3449aedf-e768-48a3-9e39-12a4cfdcac1b"
      },
      "outputs": [
        {
          "output_type": "stream",
          "name": "stdout",
          "text": [
            "[[0 1 2]\n",
            " [3 4 5]\n",
            " [6 7 8]]\n"
          ]
        }
      ],
      "source": [
        "arr = np.arange(9)\n",
        "matrix = arr.reshape(3,3)\n",
        "print(matrix)\n"
      ]
    },
    {
      "cell_type": "markdown",
      "metadata": {
        "id": "SSUVb339zB5W"
      },
      "source": [
        "7) Создать матрицу размера 4 на 4 с единицами на диагонали смещеной на один наверх."
      ]
    },
    {
      "cell_type": "code",
      "execution_count": null,
      "metadata": {
        "colab": {
          "base_uri": "https://localhost:8080/"
        },
        "id": "VcDs9lkqzB5Y",
        "outputId": "b343d097-8de9-40ae-b4e0-9cd1f8c8e599"
      },
      "outputs": [
        {
          "output_type": "execute_result",
          "data": {
            "text/plain": [
              "array([[0., 1., 0., 0.],\n",
              "       [0., 0., 1., 0.],\n",
              "       [0., 0., 0., 1.],\n",
              "       [0., 0., 0., 0.]])"
            ]
          },
          "metadata": {},
          "execution_count": 32
        }
      ],
      "source": [
        "np.eye(4,k = 1)"
      ]
    },
    {
      "cell_type": "markdown",
      "metadata": {
        "id": "MDukZyfazB5Y"
      },
      "source": [
        "8) Создать матрицу с числами в диапазоне от 1 до 4 по диагонали. В других ячейках матрицы должны быть семерки."
      ]
    },
    {
      "cell_type": "code",
      "execution_count": null,
      "metadata": {
        "colab": {
          "base_uri": "https://localhost:8080/"
        },
        "id": "CbKXoAW1zB5Y",
        "outputId": "658dde89-db07-4720-d795-717f35e4745e"
      },
      "outputs": [
        {
          "output_type": "stream",
          "name": "stdout",
          "text": [
            "None\n",
            "[[1 7 7 7]\n",
            " [7 2 7 7]\n",
            " [7 7 3 7]\n",
            " [7 7 7 4]]\n"
          ]
        }
      ],
      "source": [
        "matrix = np.full((4,4),7)\n",
        "print(np.fill_diagonal(matrix, [1,2,3,4]))\n",
        "print(matrix)"
      ]
    },
    {
      "cell_type": "markdown",
      "metadata": {
        "id": "sFVTWuIZzB5Y"
      },
      "source": [
        "9) Создать матрицу размера 5 на 5 заполненную чилами от 0 до 4 в строках."
      ]
    },
    {
      "cell_type": "code",
      "execution_count": null,
      "metadata": {
        "colab": {
          "base_uri": "https://localhost:8080/"
        },
        "id": "rSzA1Zj7zB5Z",
        "outputId": "72f824bf-dca0-46fa-cd81-58778361e064"
      },
      "outputs": [
        {
          "output_type": "execute_result",
          "data": {
            "text/plain": [
              "array([[0, 1, 2, 3, 4],\n",
              "       [0, 1, 2, 3, 4],\n",
              "       [0, 1, 2, 3, 4],\n",
              "       [0, 1, 2, 3, 4],\n",
              "       [0, 1, 2, 3, 4]])"
            ]
          },
          "metadata": {},
          "execution_count": 39
        }
      ],
      "source": [
        "np.full((5,5), [0,1,2,3,4])"
      ]
    },
    {
      "cell_type": "markdown",
      "metadata": {
        "id": "X-75FiD3zB5Z"
      },
      "source": [
        "10) Создать матрицу случайных чисел размера 10 на 10 и отнять среднее по строкам из каждого элемента строки"
      ]
    },
    {
      "cell_type": "code",
      "execution_count": null,
      "metadata": {
        "colab": {
          "base_uri": "https://localhost:8080/"
        },
        "id": "i1Dtquu6zB5b",
        "outputId": "bd5c2fa6-7b1f-4b8d-8098-debbcddd8d42"
      },
      "outputs": [
        {
          "output_type": "execute_result",
          "data": {
            "text/plain": [
              "array([[0.19095188, 0.8170565 , 0.15690112, 0.52198227, 0.58371583,\n",
              "        0.74107376, 0.1678442 , 0.00823602, 0.83712484, 0.84271432],\n",
              "       [0.54863215, 0.4485761 , 0.62785419, 0.47918418, 0.6565623 ,\n",
              "        0.92157576, 0.29986886, 0.18485086, 0.08163529, 0.74885698],\n",
              "       [0.86056796, 0.56237078, 0.72222341, 0.67418833, 0.36219529,\n",
              "        0.68370834, 0.02210038, 0.43456746, 0.00590929, 0.53756226],\n",
              "       [0.67505794, 0.80301971, 0.30294461, 0.5744923 , 0.57720304,\n",
              "        0.47214329, 0.16955843, 0.33202249, 0.10449689, 0.23409886],\n",
              "       [0.25821472, 0.15285139, 0.11374887, 0.04598685, 0.2174706 ,\n",
              "        0.10630414, 0.21537822, 0.88120275, 0.50688174, 0.78779855],\n",
              "       [0.3630453 , 0.65092949, 0.86468063, 0.32308947, 0.88209825,\n",
              "        0.27426342, 0.04387498, 0.73387545, 0.15109646, 0.95669477],\n",
              "       [0.08017101, 0.16807612, 0.5250877 , 0.16472651, 0.28459752,\n",
              "        0.26989774, 0.95188359, 0.43735022, 0.10721525, 0.1781172 ],\n",
              "       [0.68316222, 0.11267507, 0.26964427, 0.50393371, 0.07260217,\n",
              "        0.79460812, 0.48957844, 0.43296455, 0.60282069, 0.4400257 ],\n",
              "       [0.89207154, 0.65654039, 0.28150224, 0.07036699, 0.39751251,\n",
              "        0.53363445, 0.63521846, 0.41243471, 0.98814914, 0.63179208],\n",
              "       [0.20492843, 0.01288388, 0.98523107, 0.44758913, 0.36631864,\n",
              "        0.63567083, 0.86330987, 0.97305163, 0.63104304, 0.15592774]])"
            ]
          },
          "metadata": {},
          "execution_count": 42
        }
      ],
      "source": [
        "matrix = np.random.random_sample((10,10))\n"
      ]
    },
    {
      "cell_type": "markdown",
      "metadata": {
        "id": "uEEmKQ7_zB5b"
      },
      "source": [
        "11) Создать матрицу случайных чисел размера 10 на 10 и отнять медиану по столбцам из каждого элемента столбца  "
      ]
    },
    {
      "cell_type": "code",
      "execution_count": null,
      "metadata": {
        "id": "Vu5yex5MzB5c"
      },
      "outputs": [],
      "source": []
    },
    {
      "cell_type": "markdown",
      "metadata": {
        "id": "qKtEWZMLzB5c"
      },
      "source": [
        "12) Создать матрицу случайных чисел 5x5. Добавить к ней столбецы максимумов и минимумов по строкам. Получится матрица 5x7.  "
      ]
    },
    {
      "cell_type": "code",
      "execution_count": null,
      "metadata": {
        "id": "pzmR2kO9zB5d"
      },
      "outputs": [],
      "source": []
    },
    {
      "cell_type": "markdown",
      "metadata": {
        "id": "CLJJImWdzB5d"
      },
      "source": [
        "13) Вектор чисел от 1 до 51 преобразовать в вектор нечетных чисел и в вектор четных чисел, поменять их размерности, чтобы получились две матрица. Найти произведение этих матриц. Найти обратную матрицу эётого произведения.  "
      ]
    },
    {
      "cell_type": "code",
      "execution_count": null,
      "metadata": {
        "id": "xO8Lgs1FzB5e"
      },
      "outputs": [],
      "source": []
    },
    {
      "cell_type": "markdown",
      "metadata": {
        "id": "iGPsfALvzB5e"
      },
      "source": [
        "14) Создать 8x8 матрицу и заполнить её в шахматном порядке нулями и единицами."
      ]
    },
    {
      "cell_type": "code",
      "execution_count": null,
      "metadata": {
        "id": "iNMnvk1WzB5f"
      },
      "outputs": [],
      "source": []
    }
  ],
  "metadata": {
    "kernelspec": {
      "display_name": "Python 3 (ipykernel)",
      "language": "python",
      "name": "python3"
    },
    "language_info": {
      "codemirror_mode": {
        "name": "ipython",
        "version": 3
      },
      "file_extension": ".py",
      "mimetype": "text/x-python",
      "name": "python",
      "nbconvert_exporter": "python",
      "pygments_lexer": "ipython3",
      "version": "3.10.1"
    },
    "colab": {
      "provenance": [],
      "include_colab_link": true
    }
  },
  "nbformat": 4,
  "nbformat_minor": 0
}